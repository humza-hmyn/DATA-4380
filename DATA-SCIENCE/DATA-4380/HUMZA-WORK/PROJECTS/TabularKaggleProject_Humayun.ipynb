{
 "cells": [
  {
   "cell_type": "markdown",
   "id": "1d3d8f87",
   "metadata": {},
   "source": [
    "## Harmful Brain Activity Classification \n",
    "\n",
    "https://www.kaggle.com/competitions/hms-harmful-brain-activity-classification/"
   ]
  },
  {
   "cell_type": "markdown",
   "id": "a80b3ee9",
   "metadata": {},
   "source": [
    "   The basis of this dataset follows the analysis of electrical activity in the brain via the usage of an electroencephalogram (EEG) on critically ill patients . The EEG uses small electrodes applied to a patient’s scalp to measure the electrical signals fired between neurons, which are measured in voltages and sourced from the spatial placement of the electrode and the corresponding region of the brain. With these measurements, it is possible to detect abnormalities and seizure activity in the brain of a patient via anomalies in the EEG readings. This data problem provided by Harvard Medical School (HMS) seeks to integrate machine learning algorithms in the analysis of such data, to seek out patterns correlative to harmful brain activity with great efficiency. "
   ]
  },
  {
   "cell_type": "markdown",
   "id": "5194e236",
   "metadata": {},
   "source": [
    "Briefly describe the data.\n",
    "\n",
    "The information within this dataset "
   ]
  },
  {
   "cell_type": "markdown",
   "id": "1d3d2044",
   "metadata": {},
   "source": [
    "What type of Machine Learning? Supervised Classification (binary or multiclass) or Regression?"
   ]
  }
 ],
 "metadata": {
  "kernelspec": {
   "display_name": "Python 3 (ipykernel)",
   "language": "python",
   "name": "python3"
  },
  "language_info": {
   "codemirror_mode": {
    "name": "ipython",
    "version": 3
   },
   "file_extension": ".py",
   "mimetype": "text/x-python",
   "name": "python",
   "nbconvert_exporter": "python",
   "pygments_lexer": "ipython3",
   "version": "3.8.10"
  }
 },
 "nbformat": 4,
 "nbformat_minor": 5
}
